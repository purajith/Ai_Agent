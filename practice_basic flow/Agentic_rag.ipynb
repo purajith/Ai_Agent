{
 "cells": [
  {
   "cell_type": "code",
   "execution_count": 2,
   "id": "dca52f8e",
   "metadata": {},
   "outputs": [],
   "source": [
    "from langchain.chat_models import init_chat_model\n",
    "from typing import Annotated\n",
    "from typing_extensions import TypedDict, Dict\n",
    "from langgraph.graph import StateGraph, START, END\n",
    "from langgraph.graph.message import add_messages\n",
    "# from langchain_core.tools import tool\n",
    "from langgraph.prebuilt import ToolNode, tools_condition\n",
    "from langgraph.checkpoint.memory import MemorySaver\n",
    "from dotenv import load_dotenv\n",
    "import os \n",
    "from langchain.tools import tool\n",
    "\n",
    "\n",
    "\n",
    "load_dotenv()\n",
    "openai_api_key = os.getenv(\"OPENAI_API_KEY\")\n",
    "memory = MemorySaver()\n",
    "\n"
   ]
  },
  {
   "cell_type": "markdown",
   "id": "1d728d4b",
   "metadata": {},
   "source": [
    "## our work  flow"
   ]
  },
  {
   "cell_type": "code",
   "execution_count": null,
   "id": "2d419e03",
   "metadata": {},
   "outputs": [
    {
     "data": {
      "image/png": "[encoded data removed]",
      "text/plain": [
       "<langgraph.graph.state.CompiledStateGraph object at 0x0000025D57B80D90>"
      ]
     },
     "execution_count": 14,
     "metadata": {},
     "output_type": "execute_result"
    }
   ],
   "source": [
    "from langchain.chat_models import init_chat_model\n",
    "from typing import Annotated\n",
    "from typing_extensions import TypedDict, Dict\n",
    "from langgraph.graph import StateGraph, START, END\n",
    "from langgraph.graph.message import add_messages\n",
    "# from langchain_core.tools import tool\n",
    "from langgraph.prebuilt import ToolNode, tools_condition\n",
    "from langgraph.checkpoint.memory import MemorySaver\n",
    "from dotenv import load_dotenv\n",
    "import os \n",
    "from langchain.tools import tool\n",
    "\n",
    "\n",
    "\n",
    "load_dotenv()\n",
    "openai_api_key = os.getenv(\"OPENAI_API_KEY\")\n",
    "memory = MemorySaver()\n",
    "\n",
    "\n",
    "\n",
    "class State(TypedDict):\n",
    "    query:  str\n",
    "    rewrite_query:   str\n",
    "    sql_retrieved_data: str\n",
    "    vdb_retrieved_data: str\n",
    "    feedback:   str\n",
    "# done\n",
    "def rewrite_llm(state: State)    -> Dict[str, str]:\n",
    "    return {\"rewrite_query\": \"cleaned query from LLM\"}\n",
    "    \n",
    "def decision_llm(state: State)  ->  str:\n",
    "    if \"patient\" in state[\"rewrite_query\"].lower():\n",
    "        return \"sql\"\n",
    "    else:\n",
    "        return \"vdb\"\n",
    "#done\n",
    "@tool\n",
    "def sql_agent_llm(state:    State)->    str:\n",
    "    \"\"\"Run SQL agent\"\"\"\n",
    "    return f\"SQL results for {state['query']}\"\n",
    "\n",
    "# done\n",
    "def hybrid_retrieval(state: State)->    Dict[str, str]:\n",
    "    \"\"\" return  the query \"\"\"\n",
    "\n",
    "    return {\"vdb_retrieved_data\": \"reranked docs\"}\n",
    "\n",
    "\n",
    "llm = init_chat_model('gpt-4o-mini')\n",
    "\n",
    "tools = [sql_agent_llm,hybrid_retrieval]\n",
    "\n",
    "llm_with_tools = llm.bind_tools(tools)\n",
    "\n",
    "def chatbot(state:State)->  str:\n",
    "    return {\"Messages\":[llm_with_tools.invoke(state[\"query\"])]}\n",
    "\n",
    "builder = StateGraph(State)\n",
    "\n",
    "builder.add_node(\"rewrite_llm_node\",rewrite_llm)\n",
    "builder.add_node(\"decision_llm_node\", decision_llm)\n",
    "builder.add_node('tools',ToolNode(tools))\n",
    "\n",
    "builder.add_edge(START, \"rewrite_llm_node\")\n",
    "builder.add_edge('rewrite_llm_node',\"decision_llm_node\")\n",
    "builder.add_conditional_edges(\"decision_llm_node\", tools_condition)\n",
    "builder.add_edge(\"tools\",'decision_llm_node')\n",
    "\n",
    "graph = builder.compile(checkpointer=memory)\n",
    "graph"
   ]
  },
  {
   "cell_type": "markdown",
   "id": "ed1ed467",
   "metadata": {},
   "source": [
    "# llm  given flow "
   ]
  },
  {
   "cell_type": "code",
   "execution_count": null,
   "id": "0214fe6d",
   "metadata": {},
   "outputs": [
    {
     "name": "stderr",
     "output_type": "stream",
     "text": [
      "Task decision_llm_node with path ('__pregel_pull', 'decision_llm_node') wrote to unknown channel branch:to:{'vdb_retrieved_data': 'reranked docs from VDB', 'query': 'Show me patient records', 'rewrite_query': 'cleaned query from LLM', 'sql_retrieved_data': '', 'feedback': ''}, ignoring it.\n"
     ]
    },
    {
     "name": "stdout",
     "output_type": "stream",
     "text": [
      "{'query': 'Show me patient records', 'rewrite_query': 'cleaned query from LLM', 'sql_retrieved_data': '', 'vdb_retrieved_data': 'reranked docs from VDB', 'feedback': ''}\n"
     ]
    }
   ],
   "source": [
    "from typing import TypedDict, Dict\n",
    "from langgraph.graph import StateGraph\n",
    "from langchain_core.tools import tool\n",
    "from langgraph.graph import END, START\n",
    "\n",
    "\n",
    "# Define shared state\n",
    "class State(TypedDict):\n",
    "    query: str\n",
    "    rewrite_query: str\n",
    "    sql_retrieved_data: str\n",
    "    vdb_retrieved_data: str\n",
    "    feedback: str\n",
    "\n",
    "# Step 1: Rewrite query\n",
    "def rewrite_llm(state: State) -> Dict[str, str]:\n",
    "    return {\"rewrite_query\": \"cleaned query from LLM\"}\n",
    "\n",
    "# Step 2: Decide which tool to use\n",
    "def decision_llm(state: State) -> str:\n",
    "    if \"patient\" in state[\"rewrite_query\"].lower():\n",
    "        return sql_agent_llm\n",
    "    else:\n",
    "        return hybrid_retrieval\n",
    "\n",
    "# Step 3a: SQL agent tool\n",
    "@tool\n",
    "def sql_agent_llm(\n",
    "    query: str,\n",
    "    rewrite_query: str,\n",
    "    sql_retrieved_data: str,\n",
    "    vdb_retrieved_data: str,\n",
    "    feedback: str\n",
    ") -> Dict[str, str]:\n",
    "    \"\"\"tool\"\"\"\n",
    "    return {\"sql_retrieved_data\": f\"SQL results for query: {query}\"}\n",
    "\n",
    "# Step 3b: VDB retrieval tool\n",
    "@tool\n",
    "def hybrid_retrieval(\n",
    "    query: str,\n",
    "    rewrite_query: str,\n",
    "    sql_retrieved_data: str,\n",
    "    vdb_retrieved_data: str,\n",
    "    feedback: str\n",
    ") -> Dict[str, str]:\n",
    "    \"\"\"tool\"\"\"\n",
    "    return {\"vdb_retrieved_data\": \"reranked docs from VDB\"}\n",
    "\n",
    "# Conditional routing function\n",
    "def tools_condition(output: str) -> str:\n",
    "    return output  # output is already the node name\n",
    "\n",
    "# Build the graph\n",
    "builder = StateGraph(State)\n",
    "\n",
    "# Add nodes\n",
    "builder.add_node(\"rewrite_llm_node\", rewrite_llm)\n",
    "builder.add_node(\"decision_llm_node\", decision_llm)\n",
    "builder.add_node(\"sql_agent_llm\", sql_agent_llm)\n",
    "builder.add_node(\"hybrid_retrieval\", hybrid_retrieval)\n",
    "\n",
    "# Add edges\n",
    "builder.add_edge(START, \"rewrite_llm_node\")\n",
    "builder.add_edge(\"rewrite_llm_node\", \"decision_llm_node\")\n",
    "builder.add_conditional_edges(\"decision_llm_node\", tools_condition)\n",
    "builder.add_edge(\"sql_agent_llm\", END)\n",
    "builder.add_edge(\"hybrid_retrieval\", END)\n",
    "\n",
    "# Compile the graph\n",
    "graph = builder.compile()\n",
    "\n",
    "# Dummy input state\n",
    "state = {\n",
    "    \"query\": \"Show me patient records\",\n",
    "    \"rewrite_query\": \"\",\n",
    "    \"sql_retrieved_data\": \"\",\n",
    "    \"vdb_retrieved_data\": \"\",\n",
    "    \"feedback\": \"\"\n",
    "}\n",
    "\n",
    "# Run the graph\n",
    "final_output = graph.invoke(state)\n",
    "print(final_output)"
   ]
  },
  {
   "cell_type": "code",
   "execution_count": 18,
   "id": "091318ec",
   "metadata": {},
   "outputs": [
    {
     "data": {
      "text/plain": [
       "{'query': 'Show me patient records',\n",
       " 'rewrite_query': 'cleaned query from LLM',\n",
       " 'sql_retrieved_data': '',\n",
       " 'vdb_retrieved_data': 'reranked docs from VDB',\n",
       " 'feedback': ''}"
      ]
     },
     "execution_count": 18,
     "metadata": {},
     "output_type": "execute_result"
    }
   ],
   "source": [
    "final_output"
   ]
  },
  {
   "cell_type": "code",
   "execution_count": 20,
   "id": "25fb452b",
   "metadata": {},
   "outputs": [
    {
     "data": {
      "image/png": "[encoded data removed]",
      "text/plain": [
       "<langgraph.graph.state.CompiledStateGraph object at 0x0000025D58A91B50>"
      ]
     },
     "execution_count": 20,
     "metadata": {},
     "output_type": "execute_result"
    }
   ],
   "source": [
    "graph"
   ]
  },
  {
   "cell_type": "code",
   "execution_count": null,
   "id": "e022f39a",
   "metadata": {},
   "outputs": [],
   "source": []
  }
 ],
 "metadata": {
  "kernelspec": {
   "display_name": "Python 3",
   "language": "python",
   "name": "python3"
  },
  "language_info": {
   "codemirror_mode": {
    "name": "ipython",
    "version": 3
   },
   "file_extension": ".py",
   "mimetype": "text/x-python",
   "name": "python",
   "nbconvert_exporter": "python",
   "pygments_lexer": "ipython3",
   "version": "3.13.6"
  }
 },
 "nbformat": 4,
 "nbformat_minor": 5
}
