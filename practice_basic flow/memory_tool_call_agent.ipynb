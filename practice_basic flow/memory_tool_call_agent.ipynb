{
 "cells": [
  {
   "cell_type": "code",
   "execution_count": 1,
   "id": "a247c141",
   "metadata": {},
   "outputs": [],
   "source": [
    "from langchain.chat_models import init_chat_model\n",
    "from typing import Annotated\n",
    "from typing_extensions import TypedDict\n",
    "from langgraph.graph import StateGraph, START, END\n",
    "from langgraph.graph.message import add_messages\n",
    "# from langchain_core.tools import tool\n",
    "from langgraph.prebuilt import ToolNode, tools_condition\n",
    "from langgraph.checkpoint.memory import MemorySaver\n",
    "from dotenv import load_dotenv\n",
    "import os \n",
    "from langchain.tools import tool\n",
    "\n",
    "\n",
    "\n",
    "load_dotenv()\n",
    "openai_api_key = os.getenv(\"OPENAI_API_KEY\")\n",
    "memory = MemorySaver()\n",
    "\n"
   ]
  },
  {
   "cell_type": "code",
   "execution_count": 27,
   "id": "4ebd061b",
   "metadata": {},
   "outputs": [],
   "source": [
    "class State(TypedDict):\n",
    "    messages: Annotated[list,add_messages]\n",
    "    \n",
    "def get_stock_price(symbol:str)->float:\n",
    "    '''Return the current price of a stock given the stock symbol\n",
    "    :param symbol: stock symbol\n",
    "    :return: current price of the stock\n",
    "    '''\n",
    "    return {\n",
    "        \"MSFT\": 200.3,\n",
    "        \"AAPL\": 100.4,\n",
    "        \"AMZN\": 150.0,\n",
    "        \"RIL\": 87.6\n",
    "    }.get(symbol, 0.0)\n",
    "    \n",
    "tools = [get_stock_price]\n",
    "\n",
    "llm = init_chat_model('gpt-4o-mini')\n",
    "llm_with_tools = llm.bind_tools(tools)\n",
    "\n",
    "def chatbot(state:State)-> str:\n",
    "    return {\"messages\": [llm_with_tools.invoke(state[\"messages\"])]}\n",
    "    \n",
    "    "
   ]
  },
  {
   "cell_type": "code",
   "execution_count": 28,
   "id": "816505e4",
   "metadata": {},
   "outputs": [
    {
     "data": {
      "image/png": "[encoded data removed]",
      "text/plain": [
       "<langgraph.graph.state.CompiledStateGraph object at 0x000001D239B8F650>"
      ]
     },
     "execution_count": 28,
     "metadata": {},
     "output_type": "execute_result"
    }
   ],
   "source": [
    "builder = StateGraph(State)\n",
    "builder.add_node('chatbot_node',chatbot)\n",
    "builder.add_node('tools', ToolNode(tools))\n",
    "\n",
    "builder.add_edge(START, 'chatbot_node')\n",
    "builder.add_conditional_edges('chatbot_node', tools_condition)\n",
    "builder.add_edge('tools', 'chatbot_node')\n",
    "builder.add_edge( 'chatbot_node', END) \n",
    "\n",
    "graph=builder.compile(checkpointer=memory)\n",
    "graph"
   ]
  },
  {
   "cell_type": "code",
   "execution_count": 29,
   "id": "cb417dd0",
   "metadata": {},
   "outputs": [
    {
     "name": "stdout",
     "output_type": "stream",
     "text": [
      "The current prices are as follows:\n",
      "- Amazon (AMZN): $150.00\n",
      "- Microsoft (MSFT): $200.30\n",
      "\n",
      "To calculate the total cost:\n",
      "- For 20 AMZN stocks: \\( 20 \\times 150 = 3000 \\)\n",
      "- For 15 MSFT stocks: \\( 15 \\times 200.30 = 3004.5 \\)\n",
      "\n",
      "Now, adding both amounts:\n",
      "- Total cost = \\( 3000 + 3004.5 = 6004.5 \\)\n",
      "\n",
      "Therefore, the total cost will be **$6004.50**.\n"
     ]
    }
   ],
   "source": [
    "config1 = {'configurable': {'thread_id':'1'}}\n",
    "msg = \"I want to buy 20 AMZN stocks using current price. Then 15 MSFT. What will be the total cost?\"\n",
    "state = graph.invoke({'messages':[{'role':'user','content':msg}]},config=config1)\n",
    "print(state[\"messages\"][-1].content)\n"
   ]
  },
  {
   "cell_type": "code",
   "execution_count": 30,
   "id": "b3558e07",
   "metadata": {},
   "outputs": [
    {
     "name": "stdout",
     "output_type": "stream",
     "text": [
      "The current price of Reliance Industries Limited (RIL) is $87.60.\n",
      "\n",
      "To calculate the total cost for 10 RIL stocks:\n",
      "- For 10 RIL stocks: \\( 10 \\times 87.6 = 876 \\)\n",
      "\n",
      "Now, adding this to the previous total cost of $6004.50:\n",
      "- New total cost = \\( 6004.5 + 876 = 6880.5 \\)\n",
      "\n",
      "Thus, the updated total cost will be **$6880.50**.\n"
     ]
    }
   ],
   "source": [
    "\n",
    "msg = \"Using the current price tell me the total price of 10 RIL stocks and add it to previous total cost\"\n",
    "\n",
    "state = graph.invoke({\"messages\": [{\"role\": \"user\", \"content\": msg}]}, config=config1)\n",
    "print(state[\"messages\"][-1].content)"
   ]
  },
  {
   "cell_type": "code",
   "execution_count": null,
   "id": "83d7a493",
   "metadata": {},
   "outputs": [],
   "source": []
  }
 ],
 "metadata": {
  "kernelspec": {
   "display_name": "Python 3",
   "language": "python",
   "name": "python3"
  },
  "language_info": {
   "codemirror_mode": {
    "name": "ipython",
    "version": 3
   },
   "file_extension": ".py",
   "mimetype": "text/x-python",
   "name": "python",
   "nbconvert_exporter": "python",
   "pygments_lexer": "ipython3",
   "version": "3.11.0"
  }
 },
 "nbformat": 4,
 "nbformat_minor": 5
}
